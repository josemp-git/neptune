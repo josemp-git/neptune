{
 "cells": [
  {
   "cell_type": "markdown",
   "metadata": {},
   "source": [
    "# Gremlin -  Ejemplo Videojuegos\n",
    "\n",
    "<img src=\"http://neptune.oldschool.cloud/images/graph.jpg\" width=\"300\" height=\"300\">"
   ]
  },
  {
   "cell_type": "markdown",
   "metadata": {},
   "source": [
    "## Introduccion\n",
    "\n",
    "En este cuaderno vamos a examinar algunas de las consultas Gremlin para explorar las propiedades de nuestro Grafo. Como hemos visto, hay Vertices (V) para Personas y para Videojuegos. Hay Bordes (E) entre las personas y los juegos que definen que Videojuego le gusta a la Persona y en que grado.\n"
   ]
  },
  {
   "cell_type": "markdown",
   "metadata": {},
   "source": [
    "\n",
    "### Primeramente revisemos el estado del cluster de Neptune\n",
    "Antes de ejecutar alguna consulta, vamos a asegurarnos que estamos conectados a Neptune y que el clustet esta listo. Notar que el comando `%graph_notebook_config` regresara la configuracion actual del cuaderno de python."
   ]
  },
  {
   "cell_type": "code",
   "execution_count": 66,
   "metadata": {},
   "outputs": [
    {
     "name": "stdout",
     "output_type": "stream",
     "text": [
      "1.27\n"
     ]
    }
   ],
   "source": [
    "%graph_notebook_version"
   ]
  },
  {
   "cell_type": "code",
   "execution_count": 67,
   "metadata": {},
   "outputs": [
    {
     "name": "stdout",
     "output_type": "stream",
     "text": [
      "{\n",
      "  \"host\": \"neptunedbcluster-pxjosopjfuru.cluster-cgcclj1nemxy.us-east-1.neptune.amazonaws.com\",\n",
      "  \"port\": 8182,\n",
      "  \"auth_mode\": \"DEFAULT\",\n",
      "  \"iam_credentials_provider_type\": \"ROLE\",\n",
      "  \"load_from_s3_arn\": \"\",\n",
      "  \"ssl\": true,\n",
      "  \"aws_region\": \"us-east-1\"\n",
      "}\n"
     ]
    }
   ],
   "source": [
    "%graph_notebook_config"
   ]
  },
  {
   "cell_type": "code",
   "execution_count": 39,
   "metadata": {},
   "outputs": [
    {
     "data": {
      "text/plain": [
       "{'status': 'healthy',\n",
       " 'startTime': 'Fri Aug 07 02:35:45 UTC 2020',\n",
       " 'dbEngineVersion': '1.0.3.0.R1',\n",
       " 'role': 'writer',\n",
       " 'gremlin': {'version': 'tinkerpop-3.4.3'},\n",
       " 'sparql': {'version': 'sparql-1.1'},\n",
       " 'labMode': {'ObjectIndex': 'disabled',\n",
       "  'DFEQueryEngine': 'disabled',\n",
       "  'ReadWriteConflictDetection': 'enabled'}}"
      ]
     },
     "execution_count": 39,
     "metadata": {},
     "output_type": "execute_result"
    }
   ],
   "source": [
    "%status"
   ]
  },
  {
   "cell_type": "markdown",
   "metadata": {},
   "source": [
    "## Representacion Visual de una Consulta\n",
    "\n",
    "Los resultados de calquier consulta de Gremlin que regrese un `path` puede ser exploara visualmente. Cuando esas consultas se ejecutan, podras ver una pestana nueva llamada `Graph` en el area de resultados de las consultas junto a la pestana `Console`.\n"
   ]
  },
  {
   "cell_type": "markdown",
   "metadata": {},
   "source": [
    "## Ejemplos de consultas Gremlin\n",
    "Las siguientes celdas contien algunas de las consultas que usamos desde la la linea de comando en los pasos anteriores del laboratorio, ademas de algunas consultas adicionales que nos permitiran explorar visuzalizaciones."
   ]
  },
  {
   "cell_type": "markdown",
   "metadata": {},
   "source": [
    "### Consulta para un vértice particular (jugador):"
   ]
  },
  {
   "cell_type": "code",
   "execution_count": 72,
   "metadata": {
    "scrolled": true
   },
   "outputs": [
    {
     "data": {
      "application/vnd.jupyter.widget-view+json": {
       "model_id": "2cf8e8bd7950421cb550ecdb1224ec17",
       "version_major": 2,
       "version_minor": 0
      },
      "text/plain": [
       "Tab(children=(Output(layout=Layout(max_height='600px', overflow='scroll', width='100%')),), _titles={'0': 'Con…"
      ]
     },
     "metadata": {},
     "output_type": "display_data"
    }
   ],
   "source": [
    "%%gremlin\n",
    "g.V().hasId('Luke').valueMap()"
   ]
  },
  {
   "cell_type": "code",
   "execution_count": 73,
   "metadata": {},
   "outputs": [
    {
     "data": {
      "application/vnd.jupyter.widget-view+json": {
       "model_id": "207c8721c9564012b4f680e2750032f3",
       "version_major": 2,
       "version_minor": 0
      },
      "text/plain": [
       "Tab(children=(Output(layout=Layout(max_height='600px', overflow='scroll', width='100%')),), _titles={'0': 'Con…"
      ]
     },
     "metadata": {},
     "output_type": "display_data"
    }
   ],
   "source": [
    "%%gremlin\n",
    "g.V().has(\"GamerAlias\",\"skywalker123\").valueMap()\n"
   ]
  },
  {
   "cell_type": "code",
   "execution_count": 74,
   "metadata": {},
   "outputs": [
    {
     "data": {
      "application/vnd.jupyter.widget-view+json": {
       "model_id": "aad68009ed1a4eb5a73cf2de1a52fbd0",
       "version_major": 2,
       "version_minor": 0
      },
      "text/plain": [
       "Tab(children=(Output(layout=Layout(max_height='600px', overflow='scroll', width='100%')),), _titles={'0': 'Con…"
      ]
     },
     "metadata": {},
     "output_type": "display_data"
    }
   ],
   "source": [
    "%%gremlin\n",
    "g.V().has('GamerAlias','skywalker123')\n"
   ]
  },
  {
   "cell_type": "markdown",
   "metadata": {},
   "source": [
    "### Muestra algunos de los bordes (límite 5):"
   ]
  },
  {
   "cell_type": "code",
   "execution_count": 75,
   "metadata": {
    "scrolled": true
   },
   "outputs": [
    {
     "data": {
      "application/vnd.jupyter.widget-view+json": {
       "model_id": "b4cc51e2922e412392b0c1f93d2dfea7",
       "version_major": 2,
       "version_minor": 0
      },
      "text/plain": [
       "Tab(children=(Output(layout=Layout(max_height='600px', overflow='scroll', width='100%')),), _titles={'0': 'Con…"
      ]
     },
     "metadata": {},
     "output_type": "display_data"
    }
   ],
   "source": [
    "%%gremlin\n",
    "g.E().limit(5)\n"
   ]
  },
  {
   "cell_type": "markdown",
   "metadata": {},
   "source": [
    "### Muestra algunos de los vértices (límite 4):"
   ]
  },
  {
   "cell_type": "code",
   "execution_count": 76,
   "metadata": {},
   "outputs": [
    {
     "data": {
      "application/vnd.jupyter.widget-view+json": {
       "model_id": "e031acc6f62b42258dd0d6f0956b0fc0",
       "version_major": 2,
       "version_minor": 0
      },
      "text/plain": [
       "Tab(children=(Output(layout=Layout(max_height='600px', overflow='scroll', width='100%')),), _titles={'0': 'Con…"
      ]
     },
     "metadata": {},
     "output_type": "display_data"
    }
   ],
   "source": [
    "%%gremlin\n",
    "g.V().limit(4)\n"
   ]
  },
  {
   "cell_type": "markdown",
   "metadata": {},
   "source": [
    "### Cuente la centralidad en grados de los bordes entrantes para cada vértice:"
   ]
  },
  {
   "cell_type": "code",
   "execution_count": 77,
   "metadata": {},
   "outputs": [
    {
     "data": {
      "application/vnd.jupyter.widget-view+json": {
       "model_id": "98ce29dc6e3f41d39e9d4e8e732a8303",
       "version_major": 2,
       "version_minor": 0
      },
      "text/plain": [
       "Tab(children=(Output(layout=Layout(max_height='600px', overflow='scroll', width='100%')),), _titles={'0': 'Con…"
      ]
     },
     "metadata": {},
     "output_type": "display_data"
    }
   ],
   "source": [
    "%%gremlin\n",
    "g.V().group().by().by(inE().count()).unfold()\n"
   ]
  },
  {
   "cell_type": "markdown",
   "metadata": {},
   "source": [
    "### Cuente la centralidad de los bordes salientes de cada vértice:"
   ]
  },
  {
   "cell_type": "code",
   "execution_count": 78,
   "metadata": {},
   "outputs": [
    {
     "data": {
      "application/vnd.jupyter.widget-view+json": {
       "model_id": "3b81d6d6baec410ba4f4a7cf0244d299",
       "version_major": 2,
       "version_minor": 0
      },
      "text/plain": [
       "Tab(children=(Output(layout=Layout(max_height='600px', overflow='scroll', width='100%')),), _titles={'0': 'Con…"
      ]
     },
     "metadata": {},
     "output_type": "display_data"
    }
   ],
   "source": [
    "%%gremlin\n",
    "g.V().group().by().by(outE().count()).unfold()\n"
   ]
  },
  {
   "cell_type": "markdown",
   "metadata": {},
   "source": [
    "### Cuente la centralidad del grado de salida de los bordes salientes de cada vértice por orden de grado:"
   ]
  },
  {
   "cell_type": "code",
   "execution_count": 79,
   "metadata": {},
   "outputs": [
    {
     "data": {
      "application/vnd.jupyter.widget-view+json": {
       "model_id": "c98bfdc431e744e2801b70421d0f540c",
       "version_major": 2,
       "version_minor": 0
      },
      "text/plain": [
       "Tab(children=(Output(layout=Layout(max_height='600px', overflow='scroll', width='100%')),), _titles={'0': 'Con…"
      ]
     },
     "metadata": {},
     "output_type": "display_data"
    }
   ],
   "source": [
    "%%gremlin\n",
    "g.V().project(\"v\",\"degree\").by().by(bothE().count()).order().by(select(\"degree\"), decr)\n"
   ]
  },
  {
   "cell_type": "markdown",
   "metadata": {},
   "source": [
    "### Devuelve solo los vértices que son juegos:"
   ]
  },
  {
   "cell_type": "code",
   "execution_count": 119,
   "metadata": {},
   "outputs": [
    {
     "data": {
      "application/vnd.jupyter.widget-view+json": {
       "model_id": "ce8ead713fc9473f8674da2cf0647a06",
       "version_major": 2,
       "version_minor": 0
      },
      "text/plain": [
       "Tab(children=(Output(layout=Layout(max_height='600px', overflow='scroll', width='100%')),), _titles={'0': 'Con…"
      ]
     },
     "metadata": {},
     "output_type": "display_data"
    }
   ],
   "source": [
    "%%gremlin\n",
    "g.V().hasLabel('game')\n"
   ]
  },
  {
   "cell_type": "markdown",
   "metadata": {},
   "source": [
    "\n",
    " ### Devuelve solo los vértices que son jugadores:\n"
   ]
  },
  {
   "cell_type": "code",
   "execution_count": 85,
   "metadata": {},
   "outputs": [
    {
     "data": {
      "application/vnd.jupyter.widget-view+json": {
       "model_id": "b1ee9c2410f14190ba4ba0015660d113",
       "version_major": 2,
       "version_minor": 0
      },
      "text/plain": [
       "Tab(children=(Output(layout=Layout(max_height='600px', overflow='scroll', width='100%')),), _titles={'0': 'Con…"
      ]
     },
     "metadata": {},
     "output_type": "display_data"
    }
   ],
   "source": [
    "%%gremlin\n",
    "g.V().hasLabel('person')\n"
   ]
  },
  {
   "cell_type": "markdown",
   "metadata": {},
   "source": [
    "\n",
    "### Recuento de juegos agrupados por género de juego:\n"
   ]
  },
  {
   "cell_type": "code",
   "execution_count": 86,
   "metadata": {},
   "outputs": [
    {
     "data": {
      "application/vnd.jupyter.widget-view+json": {
       "model_id": "05fbb46e960148d18f3c0988264a9a97",
       "version_major": 2,
       "version_minor": 0
      },
      "text/plain": [
       "Tab(children=(Output(layout=Layout(max_height='600px', overflow='scroll', width='100%')),), _titles={'0': 'Con…"
      ]
     },
     "metadata": {},
     "output_type": "display_data"
    }
   ],
   "source": [
    "%%gremlin\n",
    "g.V().hasLabel('game').groupCount().by(\"GameGenre\").unfold()\n"
   ]
  },
  {
   "cell_type": "markdown",
   "metadata": {},
   "source": [
    "### Recuento de juegos agrupados por desarrollador:"
   ]
  },
  {
   "cell_type": "code",
   "execution_count": 89,
   "metadata": {},
   "outputs": [
    {
     "data": {
      "application/vnd.jupyter.widget-view+json": {
       "model_id": "aec0d102f4f84495b9f8d1ff731ddc05",
       "version_major": 2,
       "version_minor": 0
      },
      "text/plain": [
       "Tab(children=(Output(layout=Layout(max_height='600px', overflow='scroll', width='100%')),), _titles={'0': 'Con…"
      ]
     },
     "metadata": {},
     "output_type": "display_data"
    }
   ],
   "source": [
    "%%gremlin\n",
    "g.V().hasLabel('game').groupCount().by(\"Developer\").unfold()\n"
   ]
  },
  {
   "cell_type": "markdown",
   "metadata": {},
   "source": [
    "### Recuento de juegos agrupados por plataforma:\n"
   ]
  },
  {
   "cell_type": "code",
   "execution_count": 90,
   "metadata": {},
   "outputs": [
    {
     "data": {
      "application/vnd.jupyter.widget-view+json": {
       "model_id": "9834d89268424b4d90acbab6366112c5",
       "version_major": 2,
       "version_minor": 0
      },
      "text/plain": [
       "Tab(children=(Output(layout=Layout(max_height='600px', overflow='scroll', width='100%')),), _titles={'0': 'Con…"
      ]
     },
     "metadata": {},
     "output_type": "display_data"
    }
   ],
   "source": [
    "%%gremlin\n",
    "g.V().hasLabel('game').groupCount().by(\"Platform\").unfold()\n"
   ]
  },
  {
   "cell_type": "markdown",
   "metadata": {},
   "source": [
    "### ¿Cuál es la calificación promedio ponderada de MarioKart8?\n"
   ]
  },
  {
   "cell_type": "code",
   "execution_count": 91,
   "metadata": {},
   "outputs": [
    {
     "data": {
      "application/vnd.jupyter.widget-view+json": {
       "model_id": "32a1f28ae44a410f96791e44b32dfe90",
       "version_major": 2,
       "version_minor": 0
      },
      "text/plain": [
       "Tab(children=(Output(layout=Layout(max_height='600px', overflow='scroll', width='100%')),), _titles={'0': 'Con…"
      ]
     },
     "metadata": {},
     "output_type": "display_data"
    }
   ],
   "source": [
    "%%gremlin\n",
    "g.V().hasLabel('game').has('GameTitle','MarioKart8').inE('likes').values('weight').mean()\n"
   ]
  },
  {
   "cell_type": "markdown",
   "metadata": {},
   "source": [
    "### Qué juegos le gustan a skywalker123?"
   ]
  },
  {
   "cell_type": "code",
   "execution_count": 131,
   "metadata": {},
   "outputs": [
    {
     "data": {
      "application/vnd.jupyter.widget-view+json": {
       "model_id": "156a35506ad84a32ad1a51186b7f6af0",
       "version_major": 2,
       "version_minor": 0
      },
      "text/plain": [
       "Tab(children=(Output(layout=Layout(max_height='600px', overflow='scroll', width='100%')),), _titles={'0': 'Con…"
      ]
     },
     "metadata": {},
     "output_type": "display_data"
    }
   ],
   "source": [
    "%%gremlin\n",
    "g.V().has('GamerAlias','skywalker123').as('gamer').out('likes')\n"
   ]
  },
  {
   "cell_type": "markdown",
   "metadata": {},
   "source": [
    "### ¿Qué juegos le gusta a skywalker123 usar el peso (mayor que)?"
   ]
  },
  {
   "cell_type": "code",
   "execution_count": 132,
   "metadata": {},
   "outputs": [
    {
     "data": {
      "application/vnd.jupyter.widget-view+json": {
       "model_id": "040e9629796b48e1b9b8742c9ce63b86",
       "version_major": 2,
       "version_minor": 0
      },
      "text/plain": [
       "Tab(children=(Output(layout=Layout(max_height='600px', overflow='scroll', width='100%')),), _titles={'0': 'Con…"
      ]
     },
     "metadata": {},
     "output_type": "display_data"
    }
   ],
   "source": [
    "%%gremlin\n",
    "g.V().has('GamerAlias','skywalker123').outE(\"likes\").has('weight', P.gt(0.7f))\n"
   ]
  },
  {
   "cell_type": "markdown",
   "metadata": {},
   "source": [
    "### ¿Qué juegos le gusta a skywalker123 usar el peso (menos que)?"
   ]
  },
  {
   "cell_type": "code",
   "execution_count": 133,
   "metadata": {},
   "outputs": [
    {
     "data": {
      "application/vnd.jupyter.widget-view+json": {
       "model_id": "4741b50fd05448aca8cf841043ebfedc",
       "version_major": 2,
       "version_minor": 0
      },
      "text/plain": [
       "Tab(children=(Output(layout=Layout(max_height='600px', overflow='scroll', width='100%')),), _titles={'0': 'Con…"
      ]
     },
     "metadata": {},
     "output_type": "display_data"
    }
   ],
   "source": [
    "%%gremlin\n",
    "g.V().has('GamerAlias','skywalker123').outE(\"likes\").has('weight', P.lt(0.5f))\n"
   ]
  },
  {
   "cell_type": "markdown",
   "metadata": {},
   "source": [
    "### ¿A quién más le gustan los mismos juegos que al jugador skywalker123?"
   ]
  },
  {
   "cell_type": "code",
   "execution_count": 134,
   "metadata": {},
   "outputs": [
    {
     "data": {
      "application/vnd.jupyter.widget-view+json": {
       "model_id": "171a432c2ded4a00b6c8c21beda5d401",
       "version_major": 2,
       "version_minor": 0
      },
      "text/plain": [
       "Tab(children=(Output(layout=Layout(max_height='600px', overflow='scroll', width='100%')),), _titles={'0': 'Con…"
      ]
     },
     "metadata": {},
     "output_type": "display_data"
    }
   ],
   "source": [
    "%%gremlin\n",
    "g.V().has('GamerAlias','skywalker123').out('likes').in('likes').dedup().values('GamerAlias')\n"
   ]
  },
  {
   "cell_type": "markdown",
   "metadata": {},
   "source": [
    "### ¿A quién más le gustan estos juegos sin incluirse a uno mismo (skywalker123)?"
   ]
  },
  {
   "cell_type": "code",
   "execution_count": 135,
   "metadata": {},
   "outputs": [
    {
     "data": {
      "application/vnd.jupyter.widget-view+json": {
       "model_id": "61e9321a644945e39281285377c003ce",
       "version_major": 2,
       "version_minor": 0
      },
      "text/plain": [
       "Tab(children=(Output(layout=Layout(max_height='600px', overflow='scroll', width='100%')),), _titles={'0': 'Con…"
      ]
     },
     "metadata": {},
     "output_type": "display_data"
    }
   ],
   "source": [
    "%%gremlin\n",
    "g.V().has('GamerAlias','skywalker123').as('TargetGamer').out('likes').in('likes').where(neq('TargetGamer')).dedup().values('GamerAlias')\n"
   ]
  },
  {
   "cell_type": "markdown",
   "metadata": {},
   "source": [
    "### ¿Cuáles son los otros títulos de juegos que les gustan a otros jugadores, que tienen en común?"
   ]
  },
  {
   "cell_type": "code",
   "execution_count": 136,
   "metadata": {},
   "outputs": [
    {
     "data": {
      "application/vnd.jupyter.widget-view+json": {
       "model_id": "e1a12f9a4f96462fae34e2b838d2cf3d",
       "version_major": 2,
       "version_minor": 0
      },
      "text/plain": [
       "Tab(children=(Output(layout=Layout(max_height='600px', overflow='scroll', width='100%')),), _titles={'0': 'Con…"
      ]
     },
     "metadata": {},
     "output_type": "display_data"
    }
   ],
   "source": [
    "%%gremlin\n",
    "g.V().has('GamerAlias','skywalker123').as('TargetGamer').out('likes').in('likes').where(neq('TargetGamer')).out('likes').dedup().values('GameTitle')\n"
   ]
  },
  {
   "cell_type": "markdown",
   "metadata": {},
   "source": [
    "### ¿Qué juegos podrían tener sentido recomendar a un jugador específico que actualmente no le gusta?"
   ]
  },
  {
   "cell_type": "code",
   "execution_count": 137,
   "metadata": {},
   "outputs": [
    {
     "data": {
      "application/vnd.jupyter.widget-view+json": {
       "model_id": "fb28fd962c9341b2999bf7bde8ce5ad1",
       "version_major": 2,
       "version_minor": 0
      },
      "text/plain": [
       "Tab(children=(Output(layout=Layout(max_height='600px', overflow='scroll', width='100%')),), _titles={'0': 'Con…"
      ]
     },
     "metadata": {},
     "output_type": "display_data"
    }
   ],
   "source": [
    "%%gremlin\n",
    "g.V().has('GamerAlias','skywalker123').as('TargetGamer').out('likes').aggregate('self').in('likes').where(neq('TargetGamer')).out('likes').where(without('self')).dedup().values('GameTitle')\n"
   ]
  },
  {
   "cell_type": "markdown",
   "metadata": {},
   "source": [
    "### Vamos a revisar ahora Vertices y los Bordes en el Grafo.\n",
    "Cada vertice tiene una etiqueta que escencialmente le da un tipo."
   ]
  },
  {
   "cell_type": "code",
   "execution_count": 138,
   "metadata": {},
   "outputs": [
    {
     "data": {
      "application/vnd.jupyter.widget-view+json": {
       "model_id": "a6013017c6ac4c49bdc5cd702aa416a9",
       "version_major": 2,
       "version_minor": 0
      },
      "text/plain": [
       "Tab(children=(Output(layout=Layout(max_height='600px', overflow='scroll', width='100%')),), _titles={'0': 'Con…"
      ]
     },
     "metadata": {},
     "output_type": "display_data"
    }
   ],
   "source": [
    "%%gremlin\n",
    "g.V().groupCount().by(label)"
   ]
  },
  {
   "cell_type": "markdown",
   "metadata": {},
   "source": [
    "De la misma forma, cada Borde (Edge) tiene una etiqueta."
   ]
  },
  {
   "cell_type": "code",
   "execution_count": 139,
   "metadata": {
    "scrolled": false
   },
   "outputs": [
    {
     "data": {
      "application/vnd.jupyter.widget-view+json": {
       "model_id": "0752c4f557a04746804f01eee0607850",
       "version_major": 2,
       "version_minor": 0
      },
      "text/plain": [
       "Tab(children=(Output(layout=Layout(max_height='600px', overflow='scroll', width='100%')),), _titles={'0': 'Con…"
      ]
     },
     "metadata": {},
     "output_type": "display_data"
    }
   ],
   "source": [
    "%%gremlin\n",
    "g.E().groupCount().by(label)"
   ]
  },
  {
   "cell_type": "markdown",
   "metadata": {},
   "source": [
    "## Visualizaciones\n",
    "Ejecute la siguiente consulta, y haga clic en la pestana del Grafo para ver la visualizacion. Solo las consultas que regresen un path podran generar una visuaalizacion."
   ]
  },
  {
   "cell_type": "markdown",
   "metadata": {},
   "source": [
    "### Visualizar todos los Vertices que tienen la etiqueta 'person' con sus Bordes de salida (outE)"
   ]
  },
  {
   "cell_type": "code",
   "execution_count": 164,
   "metadata": {
    "scrolled": true
   },
   "outputs": [
    {
     "data": {
      "application/vnd.jupyter.widget-view+json": {
       "model_id": "42d038775e394b3aab9f0929542ac74a",
       "version_major": 2,
       "version_minor": 0
      },
      "text/plain": [
       "Tab(children=(Output(layout=Layout(max_height='600px', overflow='scroll', width='100%')), Force(network=<graph…"
      ]
     },
     "metadata": {},
     "output_type": "display_data"
    }
   ],
   "source": [
    "%%gremlin -p v,oute,inv\n",
    "g.V().hasLabel('person').outE().inV().path()\n"
   ]
  },
  {
   "cell_type": "markdown",
   "metadata": {},
   "source": [
    "### Visualizar los Juegos que le giustan al jugador 'skywalker' "
   ]
  },
  {
   "cell_type": "code",
   "execution_count": 163,
   "metadata": {
    "scrolled": false
   },
   "outputs": [
    {
     "data": {
      "application/vnd.jupyter.widget-view+json": {
       "model_id": "7b95344b1b0748968f402e7c07147f60",
       "version_major": 2,
       "version_minor": 0
      },
      "text/plain": [
       "Tab(children=(Output(layout=Layout(max_height='600px', overflow='scroll', width='100%')), Force(network=<graph…"
      ]
     },
     "metadata": {},
     "output_type": "display_data"
    }
   ],
   "source": [
    "%%gremlin -p v,oute,inv\n",
    "g.V().has('GamerAlias','skywalker123').outE(\"likes\").inV().path()"
   ]
  },
  {
   "cell_type": "markdown",
   "metadata": {},
   "source": [
    "### Visualizar los Juegos que le giustan al jugador 'forchinet' "
   ]
  },
  {
   "cell_type": "code",
   "execution_count": 162,
   "metadata": {
    "scrolled": true
   },
   "outputs": [
    {
     "data": {
      "application/vnd.jupyter.widget-view+json": {
       "model_id": "efc3c4cbd2e149eb9a716aae28008508",
       "version_major": 2,
       "version_minor": 0
      },
      "text/plain": [
       "Tab(children=(Output(layout=Layout(max_height='600px', overflow='scroll', width='100%')), Force(network=<graph…"
      ]
     },
     "metadata": {},
     "output_type": "display_data"
    }
   ],
   "source": [
    "%%gremlin -p v,oute,inv\n",
    "g.V().has('GamerAlias','forchinet').outE(\"likes\").inV().path()"
   ]
  },
  {
   "cell_type": "markdown",
   "metadata": {},
   "source": [
    "## Cambiar la configuracion de parametros\n",
    "Los cuadernos de Amazon Neptune usan una libreria de codigo abierto llamada [Vis.js](https://github.com/visjs) para generar los diagramas del grafo. Vis.js provee una gran cantidad de opciones de configuracion. LA documentacion para la mayoria de los ajustes de visualizacion usados en este libroro puedne encontrarse [aqui](https://visjs.org/) y en particular la documentacion de losdiagramas de red del grafo puedne ser encontrados [aqui](https://visjs.github.io/vis-network/docs/network/).\n",
    "\n",
    "Para ver los parametros actuales usados por el cuaderno puede usar el comando: `%graph_notebook_vis_options` "
   ]
  },
  {
   "cell_type": "code",
   "execution_count": 158,
   "metadata": {},
   "outputs": [
    {
     "name": "stdout",
     "output_type": "stream",
     "text": [
      "{\n",
      "  \"nodes\": {\n",
      "    \"borderWidthSelected\": 0,\n",
      "    \"borderWidth\": 0,\n",
      "    \"color\": {\n",
      "      \"background\": \"rgba(210, 229, 255, 1)\",\n",
      "      \"border\": \"transparent\",\n",
      "      \"highlight\": {\n",
      "        \"background\": \"rgba(9, 104, 178, 1)\",\n",
      "        \"border\": \"rgba(8, 62, 100, 1)\"\n",
      "      }\n",
      "    },\n",
      "    \"shadow\": {\n",
      "      \"enabled\": false\n",
      "    },\n",
      "    \"shape\": \"circle\",\n",
      "    \"widthConstraint\": {\n",
      "      \"minimum\": 70,\n",
      "      \"maximum\": 70\n",
      "    },\n",
      "    \"font\": {\n",
      "      \"face\": \"courier new\",\n",
      "      \"color\": \"black\",\n",
      "      \"size\": 12\n",
      "    }\n",
      "  },\n",
      "  \"edges\": {\n",
      "    \"color\": {\n",
      "      \"inherit\": false\n",
      "    },\n",
      "    \"smooth\": {\n",
      "      \"enabled\": true,\n",
      "      \"type\": \"straightCross\"\n",
      "    },\n",
      "    \"arrows\": {\n",
      "      \"to\": {\n",
      "        \"enabled\": true,\n",
      "        \"type\": \"arrow\"\n",
      "      }\n",
      "    },\n",
      "    \"font\": {\n",
      "      \"face\": \"courier new\"\n",
      "    }\n",
      "  },\n",
      "  \"interaction\": {\n",
      "    \"hover\": true,\n",
      "    \"hoverConnectedEdges\": true,\n",
      "    \"selectConnectedEdges\": false\n",
      "  },\n",
      "  \"physics\": {\n",
      "    \"hierarchicalRepulsion\": {\n",
      "      \"centralGravity\": 0\n",
      "    },\n",
      "    \"minVelocity\": 0.75,\n",
      "    \"solver\": \"hierarchicalRepulsion\"\n",
      "  },\n",
      "  \"layout\": {\n",
      "    \"hierarchical\": {\n",
      "      \"enabled\": true,\n",
      "      \"direction\": \"LR\",\n",
      "      \"sortMethod\": \"directed\",\n",
      "      \"edgeMinimization\": false\n",
      "    }\n",
      "  }\n",
      "}\n"
     ]
    }
   ],
   "source": [
    "%graph_notebook_vis_options"
   ]
  },
  {
   "cell_type": "markdown",
   "metadata": {},
   "source": [
    "### Producir un diagrama jerarquico\n",
    "Para algunos tipos de consulta una vista jerarquica es mas adecuada. Ejecute la siguiente celda para cambiar algunos parametros y despues ejecute la siguiente celda para demosrtrar los cambios. Hay una celda despues que puede usar para regresar a valores iniciales."
   ]
  },
  {
   "cell_type": "code",
   "execution_count": 159,
   "metadata": {},
   "outputs": [],
   "source": [
    "%%graph_notebook_vis_options\n",
    "{\n",
    "  \"nodes\": {\n",
    "    \"borderWidthSelected\": 0,\n",
    "    \"borderWidth\": 0,\n",
    "    \"color\": {\n",
    "      \"background\": \"rgba(210, 229, 255, 1)\",\n",
    "      \"border\": \"transparent\",\n",
    "      \"highlight\": {\n",
    "        \"background\": \"rgba(9, 104, 178, 1)\",\n",
    "        \"border\": \"rgba(8, 62, 100, 1)\"\n",
    "      }\n",
    "    },\n",
    "    \"shadow\": {\n",
    "      \"enabled\": false\n",
    "    },\n",
    "    \"shape\": \"circle\",\n",
    "    \"widthConstraint\": {\n",
    "      \"minimum\": 70,\n",
    "      \"maximum\": 70\n",
    "    },\n",
    "    \"font\": {\n",
    "      \"face\": \"courier new\",\n",
    "      \"color\": \"black\",\n",
    "      \"size\": 12\n",
    "    }\n",
    "  },\n",
    "  \"edges\": {\n",
    "    \"color\": {\n",
    "      \"inherit\": false\n",
    "    },\n",
    "    \"smooth\": {\n",
    "      \"enabled\": true,\n",
    "      \"type\": \"straightCross\"\n",
    "    },\n",
    "    \"arrows\": {\n",
    "      \"to\": {\n",
    "        \"enabled\": true,\n",
    "        \"type\": \"arrow\"\n",
    "      }\n",
    "    },\n",
    "    \"font\": {\n",
    "      \"face\": \"courier new\"\n",
    "    }\n",
    "  },\n",
    "  \"interaction\": {\n",
    "    \"hover\": true,\n",
    "    \"hoverConnectedEdges\": true,\n",
    "    \"selectConnectedEdges\": false\n",
    "  },\n",
    "  \"physics\": {\n",
    "    \"hierarchicalRepulsion\": {\n",
    "      \"centralGravity\": 0\n",
    "    },\n",
    "    \"minVelocity\": 0.75,\n",
    "    \"solver\": \"hierarchicalRepulsion\"\n",
    "  },\n",
    "  \"layout\": {\n",
    "    \"hierarchical\": { \n",
    "      \"enabled\": true,\n",
    "      \"direction\": \"LR\",\n",
    "      \"sortMethod\": \"directed\",\n",
    "      \"edgeMinimization\":false }\n",
    "  }\n",
    "}\n"
   ]
  },
  {
   "cell_type": "markdown",
   "metadata": {},
   "source": [
    "### Regresar a los valores por defecto\n",
    "Al ejecutar la celda siguiente, se configuraran los valores por defecto. Sin embargo tambien se puede usar el comando: `%graph_notebook_vis_options reset` y tendras el mismo resultado."
   ]
  },
  {
   "cell_type": "code",
   "execution_count": 160,
   "metadata": {},
   "outputs": [],
   "source": [
    "%%graph_notebook_vis_options\n",
    "{\n",
    "  \"nodes\": {\n",
    "    \"borderWidthSelected\": 0,\n",
    "    \"borderWidth\": 0,\n",
    "    \"color\": {\n",
    "      \"background\": \"rgba(210, 229, 255, 1)\",\n",
    "      \"border\": \"transparent\",\n",
    "      \"highlight\": {\n",
    "        \"background\": \"rgba(9, 104, 178, 1)\",\n",
    "        \"border\": \"rgba(8, 62, 100, 1)\"\n",
    "      }\n",
    "    },\n",
    "    \"shadow\": {\n",
    "      \"enabled\": false\n",
    "    },\n",
    "    \"shape\": \"circle\",\n",
    "    \"widthConstraint\": {\n",
    "      \"minimum\": 70,\n",
    "      \"maximum\": 70\n",
    "    },\n",
    "    \"font\": {\n",
    "      \"face\": \"courier new\",\n",
    "      \"color\": \"black\",\n",
    "      \"size\": 12\n",
    "    }\n",
    "  },\n",
    "  \"edges\": {\n",
    "    \"color\": {\n",
    "      \"inherit\": false\n",
    "    },\n",
    "    \"smooth\": {\n",
    "      \"enabled\": true,\n",
    "      \"type\": \"straightCross\"\n",
    "    },\n",
    "    \"arrows\": {\n",
    "      \"to\": {\n",
    "        \"enabled\": true,\n",
    "        \"type\": \"arrow\"\n",
    "      }\n",
    "    },\n",
    "    \"font\": {\n",
    "      \"face\": \"courier new\"\n",
    "    }\n",
    "  },\n",
    "  \"interaction\": {\n",
    "    \"hover\": true,\n",
    "    \"hoverConnectedEdges\": true,\n",
    "    \"selectConnectedEdges\": false\n",
    "  },\n",
    "  \"physics\": {\n",
    "    \"minVelocity\": 0.75,\n",
    "    \"barnesHut\": {\n",
    "      \"centralGravity\": 0.1,\n",
    "      \"gravitationalConstant\": -50450,\n",
    "      \"springLength\": 95,\n",
    "      \"springConstant\": 0.04,\n",
    "      \"damping\": 0.09,\n",
    "      \"avoidOverlap\": 0.1\n",
    "    },\n",
    "    \"solver\": \"barnesHut\",\n",
    "    \"enabled\": true,\n",
    "    \"adaptiveTimestep\": true,\n",
    "    \"stabilization\": {\n",
    "      \"enabled\": true,\n",
    "      \"iterations\": 1\n",
    "    }\n",
    "  }\n",
    "}\n"
   ]
  },
  {
   "cell_type": "markdown",
   "metadata": {},
   "source": [
    "### Ver mas datos\n",
    "Si corres la celda siguiente, el cuaderno usara el maximo de espacio de la ventana del navegador."
   ]
  },
  {
   "cell_type": "code",
   "execution_count": 161,
   "metadata": {},
   "outputs": [
    {
     "data": {
      "text/html": [
       "<style>.container { width:100% !important; }</style>"
      ],
      "text/plain": [
       "<IPython.core.display.HTML object>"
      ]
     },
     "metadata": {},
     "output_type": "display_data"
    }
   ],
   "source": [
    "from IPython.core.display import display, HTML\n",
    "display(HTML(\"<style>.container { width:100% !important; }</style>\"))"
   ]
  }
 ],
 "metadata": {
  "kernelspec": {
   "display_name": "Python 3",
   "language": "python",
   "name": "python3"
  },
  "language_info": {
   "codemirror_mode": {
    "name": "ipython",
    "version": 3
   },
   "file_extension": ".py",
   "mimetype": "text/x-python",
   "name": "python",
   "nbconvert_exporter": "python",
   "pygments_lexer": "ipython3",
   "version": "3.6.5"
  }
 },
 "nbformat": 4,
 "nbformat_minor": 4
}
